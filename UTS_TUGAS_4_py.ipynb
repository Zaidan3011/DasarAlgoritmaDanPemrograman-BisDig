{
  "nbformat": 4,
  "nbformat_minor": 0,
  "metadata": {
    "colab": {
      "provenance": [],
      "authorship_tag": "ABX9TyOKuS3xr/VrABvekBHCyeNb",
      "include_colab_link": true
    },
    "kernelspec": {
      "name": "python3",
      "display_name": "Python 3"
    },
    "language_info": {
      "name": "python"
    }
  },
  "cells": [
    {
      "cell_type": "markdown",
      "metadata": {
        "id": "view-in-github",
        "colab_type": "text"
      },
      "source": [
        "<a href=\"https://colab.research.google.com/github/Zaidan3011/DasarAlgoritmaDanPemrograman-BisDig/blob/main/UTS_TUGAS_4_py.ipynb\" target=\"_parent\"><img src=\"https://colab.research.google.com/assets/colab-badge.svg\" alt=\"Open In Colab\"/></a>"
      ]
    },
    {
      "cell_type": "code",
      "source": [
        "# Inisialisasi list kosong\n",
        "nilai_siswa = []\n",
        "\n",
        "# Input nilai 5 siswa\n",
        "for i in range(5):\n",
        "    nilai = float(input(f\"Masukkan nilai siswa ke-{i+1}: \"))\n",
        "    nilai_siswa.append(nilai)\n",
        "\n",
        "# Cari nilai tertinggi dan indeks siswa\n",
        "nilai_tertinggi = max(nilai_siswa)\n",
        "indeks_tertinggi = nilai_siswa.index(nilai_tertinggi) + 1  # +1 untuk urutan siswa (bukan indeks)\n",
        "\n",
        "# Tampilkan hasil\n",
        "print(f\"\\nNilai tertinggi adalah {nilai_tertinggi} dan diperoleh oleh siswa ke-{indeks_tertinggi}\")"
      ],
      "metadata": {
        "colab": {
          "base_uri": "https://localhost:8080/"
        },
        "id": "3fuHQ3pIubfx",
        "outputId": "2a3cdc22-ebf1-4301-bd14-c7d8673a8379"
      },
      "execution_count": 3,
      "outputs": [
        {
          "output_type": "stream",
          "name": "stdout",
          "text": [
            "Masukkan nilai siswa ke-1: 90\n",
            "Masukkan nilai siswa ke-2: 80\n",
            "Masukkan nilai siswa ke-3: 70\n",
            "Masukkan nilai siswa ke-4: 60\n",
            "Masukkan nilai siswa ke-5: 55\n",
            "\n",
            "Nilai tertinggi adalah 90.0 dan diperoleh oleh siswa ke-1\n"
          ]
        }
      ]
    }
  ]
}