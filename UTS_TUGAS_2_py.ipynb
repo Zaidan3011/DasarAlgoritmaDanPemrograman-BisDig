{
  "nbformat": 4,
  "nbformat_minor": 0,
  "metadata": {
    "colab": {
      "provenance": [],
      "authorship_tag": "ABX9TyOOaSS9MbwCOFc0M+Hsq3L4",
      "include_colab_link": true
    },
    "kernelspec": {
      "name": "python3",
      "display_name": "Python 3"
    },
    "language_info": {
      "name": "python"
    }
  },
  "cells": [
    {
      "cell_type": "markdown",
      "metadata": {
        "id": "view-in-github",
        "colab_type": "text"
      },
      "source": [
        "<a href=\"https://colab.research.google.com/github/Zaidan3011/DasarAlgoritmaDanPemrograman-BisDig/blob/main/UTS_TUGAS_2_py.ipynb\" target=\"_parent\"><img src=\"https://colab.research.google.com/assets/colab-badge.svg\" alt=\"Open In Colab\"/></a>"
      ]
    },
    {
      "cell_type": "code",
      "execution_count": 1,
      "metadata": {
        "colab": {
          "base_uri": "https://localhost:8080/"
        },
        "id": "Cg1YReeaq8aP",
        "outputId": "0f6e15d3-ed30-4416-edd0-eee71bf4e119"
      },
      "outputs": [
        {
          "output_type": "stream",
          "name": "stdout",
          "text": [
            "Masukkan total belanja Anda (Rp): 600000\n",
            "Diskon: Rp60,000.00\n",
            "Total yang harus dibayar: Rp540,000.00\n"
          ]
        }
      ],
      "source": [
        "def hitung_total_bayar(total_belanja):\n",
        "    if total_belanja > 500000:\n",
        "        diskon = total_belanja * 0.10\n",
        "        total_bayar = total_belanja - diskon\n",
        "    else:\n",
        "        diskon = 0\n",
        "        total_bayar = total_belanja\n",
        "\n",
        "    return total_bayar, diskon\n",
        "\n",
        "# Input dari pengguna\n",
        "belanja = float(input(\"Masukkan total belanja Anda (Rp): \"))\n",
        "total_bayar, diskon = hitung_total_bayar(belanja)\n",
        "\n",
        "print(f\"Diskon: Rp{diskon:,.2f}\")\n",
        "print(f\"Total yang harus dibayar: Rp{total_bayar:,.2f}\")\n"
      ]
    }
  ]
}