{
  "nbformat": 4,
  "nbformat_minor": 0,
  "metadata": {
    "colab": {
      "provenance": [],
      "authorship_tag": "ABX9TyMpq8KiEL2q2dtnbyQSlxS0",
      "include_colab_link": true
    },
    "kernelspec": {
      "name": "python3",
      "display_name": "Python 3"
    },
    "language_info": {
      "name": "python"
    }
  },
  "cells": [
    {
      "cell_type": "markdown",
      "metadata": {
        "id": "view-in-github",
        "colab_type": "text"
      },
      "source": [
        "<a href=\"https://colab.research.google.com/github/Zaidan3011/DasarAlgoritmaDanPemrograman-BisDig/blob/main/Untitled4.ipynb\" target=\"_parent\"><img src=\"https://colab.research.google.com/assets/colab-badge.svg\" alt=\"Open In Colab\"/></a>"
      ]
    },
    {
      "cell_type": "code",
      "execution_count": 1,
      "metadata": {
        "colab": {
          "base_uri": "https://localhost:8080/"
        },
        "id": "kwKUkFCrf21y",
        "outputId": "98f54768-c947-42e1-db2f-a7795c85e4bf"
      },
      "outputs": [
        {
          "output_type": "stream",
          "name": "stdout",
          "text": [
            "Masukkan angka non-negatif untuk menghitung faktorial: 6\n",
            "Faktorial dari 6 adalah 720\n"
          ]
        }
      ],
      "source": [
        "def factorial(n):\n",
        "    \"\"\"\n",
        "    Fungsi rekursif untuk menghitung faktorial dari n.\n",
        "    Faktorial dari n (n!) adalah hasil perkalian semua bilangan bulat dari 1 sampai n.\n",
        "    Contoh: 5! = 5 * 4 * 3 * 2 * 1 = 120\n",
        "\n",
        "    Parameter:\n",
        "    n (int): bilangan bulat non-negatif\n",
        "\n",
        "    Return:\n",
        "    int: nilai faktorial dari n\n",
        "    \"\"\"\n",
        "    if n == 0 or n == 1:\n",
        "        return 1\n",
        "    else:\n",
        "        return n * factorial(n - 1)\n",
        "\n",
        "def main():\n",
        "    try:\n",
        "        angka = int(input(\"Masukkan angka non-negatif untuk menghitung faktorial: \"))\n",
        "        if angka < 0:\n",
        "            print(\"Masukkan angka non-negatif!\")\n",
        "            return\n",
        "        hasil = factorial(angka)\n",
        "        print(f\"Faktorial dari {angka} adalah {hasil}\")\n",
        "    except ValueError:\n",
        "        print(\"Input tidak valid. Harap masukkan angka bulat non-negatif.\")\n",
        "\n",
        "if __name__ == \"__main__\":\n",
        "    main()"
      ]
    },
    {
      "cell_type": "code",
      "source": [
        "def main():\n",
        "    try:\n",
        "        jumlah_siswa = int(input(\"Masukkan jumlah siswa: \"))\n",
        "        if jumlah_siswa <= 0:\n",
        "            print(\"Jumlah siswa harus lebih dari 0.\")\n",
        "            return\n",
        "\n",
        "        nilai_siswa = []\n",
        "        for i in range(jumlah_siswa):\n",
        "            nilai = float(input(f\"Masukkan nilai siswa ke-{i+1}: \"))\n",
        "            nilai_siswa.append(nilai)\n",
        "\n",
        "        nilai_tertinggi = max(nilai_siswa)\n",
        "        # Mencari indeks siswa yang mendapatkan nilai tertinggi (1-based)\n",
        "        siswa_tertinggi = [i+1 for i, nilai in enumerate(nilai_siswa) if nilai == nilai_tertinggi]\n",
        "\n",
        "        print(f\"Nilai tertinggi adalah {nilai_tertinggi}\")\n",
        "        if len(siswa_tertinggi) == 1:\n",
        "            print(f\"Nilai tertinggi diperoleh oleh siswa ke-{siswa_tertinggi[0]}\")\n",
        "        else:\n",
        "            siswa_list = ', '.join(str(siswa) for siswa in siswa_tertinggi)\n",
        "            print(f\"Nilai tertinggi diperoleh oleh siswa ke-{siswa_list}\")\n",
        "    except ValueError:\n",
        "        print(\"Input tidak valid. Harap masukkan angka yang benar.\")\n",
        "\n",
        "if __name__ == \"__main__\":\n",
        "    main()"
      ],
      "metadata": {
        "colab": {
          "base_uri": "https://localhost:8080/"
        },
        "id": "zVcGxxzahZhO",
        "outputId": "6c229099-8921-4198-f50d-95fffd485cd6"
      },
      "execution_count": 2,
      "outputs": [
        {
          "output_type": "stream",
          "name": "stdout",
          "text": [
            "Masukkan jumlah siswa: 5\n",
            "Masukkan nilai siswa ke-1: 90\n",
            "Masukkan nilai siswa ke-2: 80\n",
            "Masukkan nilai siswa ke-3: 70\n",
            "Masukkan nilai siswa ke-4: 60\n",
            "Masukkan nilai siswa ke-5: 50\n",
            "Nilai tertinggi adalah 90.0\n",
            "Nilai tertinggi diperoleh oleh siswa ke-1\n"
          ]
        }
      ]
    },
    {
      "cell_type": "code",
      "source": [
        "# Program menghitung total bayar setelah diskon\n",
        "\n",
        "# Input total belanja\n",
        "total_belanja = float(input(\"Masukkan total belanja Anda: Rp \"))\n",
        "\n",
        "# Menentukan diskon berdasarkan total belanja\n",
        "if total_belanja > 500000:\n",
        "    diskon = 0.20\n",
        "elif total_belanja > 250000:\n",
        "    diskon = 0.10\n",
        "else:\n",
        "    diskon = 0.0\n",
        "\n",
        "# Menghitung jumlah diskon dan total bayar\n",
        "jumlah_diskon = total_belanja * diskon\n",
        "total_bayar = total_belanja - jumlah_diskon\n",
        "\n",
        "# Menampilkan hasil\n",
        "print(f\"Diskon: Rp {jumlah_diskon:,.2f}\")\n",
        "print(f\"Total yang harus dibayar: Rp {total_bayar:,.2f}\")"
      ],
      "metadata": {
        "colab": {
          "base_uri": "https://localhost:8080/"
        },
        "id": "AzRa7-Cljouh",
        "outputId": "2466012b-5e6b-4e6c-8e3c-52e6d5520e15"
      },
      "execution_count": 6,
      "outputs": [
        {
          "output_type": "stream",
          "name": "stdout",
          "text": [
            "Masukkan total belanja Anda: Rp 600000\n",
            "Diskon: Rp 120,000.00\n",
            "Total yang harus dibayar: Rp 480,000.00\n"
          ]
        }
      ]
    }
  ]
}