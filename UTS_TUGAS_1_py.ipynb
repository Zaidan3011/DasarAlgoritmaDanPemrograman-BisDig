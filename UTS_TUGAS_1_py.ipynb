{
  "nbformat": 4,
  "nbformat_minor": 0,
  "metadata": {
    "colab": {
      "provenance": [],
      "authorship_tag": "ABX9TyPB+7zZSqe80zyXwORtTAEo",
      "include_colab_link": true
    },
    "kernelspec": {
      "name": "python3",
      "display_name": "Python 3"
    },
    "language_info": {
      "name": "python"
    }
  },
  "cells": [
    {
      "cell_type": "markdown",
      "metadata": {
        "id": "view-in-github",
        "colab_type": "text"
      },
      "source": [
        "<a href=\"https://colab.research.google.com/github/Zaidan3011/DasarAlgoritmaDanPemrograman-BisDig/blob/main/UTS_TUGAS_1_py.ipynb\" target=\"_parent\"><img src=\"https://colab.research.google.com/assets/colab-badge.svg\" alt=\"Open In Colab\"/></a>"
      ]
    },
    {
      "cell_type": "code",
      "execution_count": 1,
      "metadata": {
        "colab": {
          "base_uri": "https://localhost:8080/"
        },
        "id": "eIaLn0d0n3eS",
        "outputId": "7faeec09-7e90-4f3c-99a9-a7415ce0761a"
      },
      "outputs": [
        {
          "output_type": "stream",
          "name": "stdout",
          "text": [
            "Masukkan angka untuk menghitung faktorial: 6\n",
            "Faktorial dari 6 adalah 720\n"
          ]
        }
      ],
      "source": [
        "def faktorial(n):\n",
        "    if n == 0 or n == 1:\n",
        "        return 1\n",
        "    else:\n",
        "        return n * faktorial(n - 1)\n",
        "\n",
        "# Input dari pengguna\n",
        "angka = int(input(\"Masukkan angka untuk menghitung faktorial: \"))\n",
        "hasil = faktorial(angka)\n",
        "print(f\"Faktorial dari {angka} adalah {hasil}\")"
      ]
    }
  ]
}