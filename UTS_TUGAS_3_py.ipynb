{
  "nbformat": 4,
  "nbformat_minor": 0,
  "metadata": {
    "colab": {
      "provenance": [],
      "authorship_tag": "ABX9TyNWYpEm+zuRexI3z8ZGq3qM",
      "include_colab_link": true
    },
    "kernelspec": {
      "name": "python3",
      "display_name": "Python 3"
    },
    "language_info": {
      "name": "python"
    }
  },
  "cells": [
    {
      "cell_type": "markdown",
      "metadata": {
        "id": "view-in-github",
        "colab_type": "text"
      },
      "source": [
        "<a href=\"https://colab.research.google.com/github/Zaidan3011/DasarAlgoritmaDanPemrograman-BisDig/blob/main/UTS_TUGAS_3_py.ipynb\" target=\"_parent\"><img src=\"https://colab.research.google.com/assets/colab-badge.svg\" alt=\"Open In Colab\"/></a>"
      ]
    },
    {
      "cell_type": "code",
      "source": [
        "def hitung_rata_rata(nilai1, nilai2, nilai3):\n",
        "    return (nilai1 + nilai2 + nilai3) / 3\n",
        "\n",
        "# Input dari pengguna\n",
        "nilai1 = float(input(\"Masukkan nilai mata pelajaran 1: \"))\n",
        "nilai2 = float(input(\"Masukkan nilai mata pelajaran 2: \"))\n",
        "nilai3 = float(input(\"Masukkan nilai mata pelajaran 3: \"))\n",
        "\n",
        "# Hitung rata-rata\n",
        "rata_rata = hitung_rata_rata(nilai1, nilai2, nilai3)\n",
        "\n",
        "# Tentukan status kelulusan\n",
        "if rata_rata >= 75:\n",
        "    status = \"LULUS\"\n",
        "else:\n",
        "    status = \"TIDAK LULUS\"\n",
        "\n",
        "# Tampilkan hasil\n",
        "print(f\"Rata-rata nilai: {rata_rata:.2f}\")\n",
        "print(f\"Status: {status}\")"
      ],
      "metadata": {
        "colab": {
          "base_uri": "https://localhost:8080/"
        },
        "id": "EgLo2z-csuQt",
        "outputId": "5cc2db44-0579-4087-cee4-05acbad505d2"
      },
      "execution_count": 2,
      "outputs": [
        {
          "output_type": "stream",
          "name": "stdout",
          "text": [
            "Masukkan nilai mata pelajaran 1: 80\n",
            "Masukkan nilai mata pelajaran 2: 85\n",
            "Masukkan nilai mata pelajaran 3: 70\n",
            "Rata-rata nilai: 78.33\n",
            "Status: LULUS\n"
          ]
        }
      ]
    }
  ]
}