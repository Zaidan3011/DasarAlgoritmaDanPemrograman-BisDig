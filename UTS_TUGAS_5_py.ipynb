{
  "nbformat": 4,
  "nbformat_minor": 0,
  "metadata": {
    "colab": {
      "provenance": [],
      "authorship_tag": "ABX9TyNqjFui6lNsnFpqbbYxdt47",
      "include_colab_link": true
    },
    "kernelspec": {
      "name": "python3",
      "display_name": "Python 3"
    },
    "language_info": {
      "name": "python"
    }
  },
  "cells": [
    {
      "cell_type": "markdown",
      "metadata": {
        "id": "view-in-github",
        "colab_type": "text"
      },
      "source": [
        "<a href=\"https://colab.research.google.com/github/Zaidan3011/DasarAlgoritmaDanPemrograman-BisDig/blob/main/UTS_TUGAS_5_py.ipynb\" target=\"_parent\"><img src=\"https://colab.research.google.com/assets/colab-badge.svg\" alt=\"Open In Colab\"/></a>"
      ]
    },
    {
      "cell_type": "code",
      "source": [
        "# Input harga dari 3 barang\n",
        "harga1 = float(input(\"Masukkan harga barang ke-1: Rp \"))\n",
        "harga2 = float(input(\"Masukkan harga barang ke-2: Rp \"))\n",
        "harga3 = float(input(\"Masukkan harga barang ke-3: Rp \"))\n",
        "\n",
        "# Hitung total\n",
        "total = harga1 + harga2 + harga3\n",
        "\n",
        "# Tampilkan total pembayaran\n",
        "print(f\"\\nTotal yang harus dibayar: Rp {total:,.2f}\")"
      ],
      "metadata": {
        "colab": {
          "base_uri": "https://localhost:8080/"
        },
        "id": "q_6_y4sVvCPA",
        "outputId": "b432a760-3f8e-4585-9e89-76bd9d827754"
      },
      "execution_count": 4,
      "outputs": [
        {
          "output_type": "stream",
          "name": "stdout",
          "text": [
            "Masukkan harga barang ke-1: Rp 50000\n",
            "Masukkan harga barang ke-2: Rp 60000\n",
            "Masukkan harga barang ke-3: Rp 75000\n",
            "\n",
            "Total yang harus dibayar: Rp 185,000.00\n"
          ]
        }
      ]
    }
  ]
}